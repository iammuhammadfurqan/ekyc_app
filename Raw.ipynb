{
 "cells": [
  {
   "cell_type": "code",
   "execution_count": 4,
   "metadata": {},
   "outputs": [],
   "source": [
    "import streamlit as st\n",
    "from PIL import Image\n",
    "import numpy as np\n",
    "import easyocr\n",
    "import pandas as pd\n",
    "import base64\n",
    "import re\n",
    "from datetime import datetime, timedelta\n",
    "from database import connect, record_exists, insert_record\n",
    "\n",
    "\n"
   ]
  },
  {
   "cell_type": "code",
   "execution_count": 8,
   "metadata": {},
   "outputs": [
    {
     "name": "stderr",
     "output_type": "stream",
     "text": [
      "Using CPU. Note: This module is much faster with a GPU.\n"
     ]
    },
    {
     "name": "stdout",
     "output_type": "stream",
     "text": [
      "[([[407, 140], [784, 140], [784, 217], [407, 217]], 'PAKISTAN', 0.9998127342888874), ([[802, 147], [1134, 147], [1134, 200], [802, 200]], 'National Identity', 0.717397636218895), ([[1146, 148], [1244, 148], [1244, 190], [1146, 190]], 'Card', 0.9997587203979492), ([[414, 228], [774, 228], [774, 254], [414, 254]], 'ISLAMIC REPUBLIC OF PAKISTAN', 0.9861856027634153), ([[468, 262], [564, 262], [564, 294], [468, 294]], 'Name', 0.9999951720237732), ([[482, 290], [760, 290], [760, 346], [482, 346]], 'Adeel Ahmed', 0.999447976647569), ([[913, 371], [1059, 371], [1059, 435], [913, 435]], '2ij*', 0.15629376471042633), ([[464, 445], [675, 445], [675, 485], [464, 485]], 'Father Name', 0.6865696595967414), ([[484, 478], [884, 478], [884, 534], [484, 534]], 'Muhammad Gulzeb', 0.6857445823828913), ([[465, 637], [593, 637], [593, 673], [465, 673]], 'Gender', 0.6611960704391551), ([[616, 633], [866, 633], [866, 676], [616, 676]], 'Country of Stay ', 0.7168963620529213), ([[485, 685], [525, 685], [525, 727], [485, 727]], 'M', 0.9945985497961942), ([[630, 677], [865, 677], [865, 730], [630, 730]], 'Saudi Arabia', 0.9985198807766598), ([[462, 757], [735, 757], [735, 799], [462, 799]], 'Identity Number', 0.9820487677105005), ([[831, 757], [1039, 757], [1039, 793], [831, 793]], 'Date of Birth', 0.9973036277031536), ([[480, 798], [802, 798], [802, 850], [480, 850]], '13101-4010491-5', 0.9970597912030585), ([[846, 796], [1056, 796], [1056, 850], [846, 850]], '01.01.1996 ', 0.49147010247621997), ([[131, 855], [335, 855], [335, 919], [131, 919]], '48907', 0.999694889843657), ([[463, 869], [677, 869], [677, 909], [463, 909]], 'Date of Issue', 0.7838246161875616), ([[833, 867], [1061, 867], [1061, 907], [833, 907]], 'Date of Expiry', 0.7922530631474327), ([[480, 908], [692, 908], [692, 962], [480, 962]], '01.05.2018', 0.8709626348810859), ([[848, 906], [1058, 906], [1058, 958], [848, 958]], '01,05.2028', 0.581627574185466), ([[1159, 953], [1299, 953], [1299, 989], [1159, 989]], 'Holder $', 0.6119183695659804), ([[1297, 951], [1462, 951], [1462, 999], [1297, 999]], 'Signature', 0.9996359811731349), ([[149, 968], [302, 968], [302, 1032], [149, 1032]], \"3iizJ'\", 0.08147265038298156)]\n"
     ]
    }
   ],
   "source": [
    "import easyocr\n",
    "import cv2  # OpenCV for loading the image\n",
    "import numpy as np\n",
    "\n",
    "# Path to the image file\n",
    "image_path = '02.jpg'\n",
    "\n",
    "# Load the image using OpenCV\n",
    "img_np = cv2.imread(image_path)\n",
    "\n",
    "# Initialize EasyOCR Reader\n",
    "reader = easyocr.Reader(['en'], gpu=False)\n",
    "\n",
    "# Read text from the image\n",
    "result = reader.readtext(img_np)\n",
    "\n",
    "# Print the result\n",
    "print(result)\n"
   ]
  },
  {
   "cell_type": "code",
   "execution_count": null,
   "metadata": {},
   "outputs": [],
   "source": []
  }
 ],
 "metadata": {
  "kernelspec": {
   "display_name": "base",
   "language": "python",
   "name": "python3"
  },
  "language_info": {
   "codemirror_mode": {
    "name": "ipython",
    "version": 3
   },
   "file_extension": ".py",
   "mimetype": "text/x-python",
   "name": "python",
   "nbconvert_exporter": "python",
   "pygments_lexer": "ipython3",
   "version": "3.12.3"
  }
 },
 "nbformat": 4,
 "nbformat_minor": 2
}
